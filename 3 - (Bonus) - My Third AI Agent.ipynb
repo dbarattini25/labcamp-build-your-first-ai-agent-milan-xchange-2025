{
 "cells": [
  {
   "cell_type": "markdown",
   "metadata": {},
   "source": [
    "# (Bonus) My Third AI Agent\n",
    "\n",
    "<div>\n",
    "<center><img src=\"./images/creativity.png\" width=\"500\"/></center>\n",
    "</div>\n",
    "\n",
    "Welcome to the final and most exciting exercise of the labcamp! 🚀 This is your chance to unleash your creativity and design a completely custom AI agent.\n",
    "\n",
    "### The Challenge:\n",
    "Your task is to create a unique AI agent using **LangGraph** that can solve a problem or perform tasks of your choice. You can define your own tools or use tools provided by LangChain (you can find the full list of available tools [here](https://python.langchain.com/docs/integrations/tools/)) to empower your agent with new capabilities.\n",
    "\n",
    "### Ideas for Tools:\n",
    "Here are some ideas for tools and tasks your agent could handle:\n",
    "1. **Web Browsing**: Use web-based tools to find information online in real time (e.g., fetch the latest news or stock prices).\n",
    "2. **Code Execution**: Execute Python code in a sandboxed environment and return the output, enabling your agent to solve programming-related queries.\n",
    "3. **API Integration**: Connect to external APIs for live data, such as weather updates, movie recommendations, or flight tracking.\n",
    "4. **Task Automation**: Use your agent to perform specific workflows, such as managing schedules, generating reports, or automating calculations.\n",
    "\n",
    "\n",
    "### What You’ll Learn:\n",
    "- **Advanced Tool Creation**: Build tools beyond simple functions to interact with external resources, including APIs, web scraping modules, or external databases.\n",
    "- **Real-World Applications**: Experiment with agents that resemble real-life use cases, building solutions for both functionality and fun.\n",
    "\n",
    "### Guidelines:\n",
    "1. **Define a Purpose**: Start by choosing what your agent will do. What problem will it solve or task will it perform?\n",
    "2. **Select Tools**: Use LangGraph-provided tools (e.g., web access, Python execution), create your own custom tools, or mix both.\n",
    "3. **Craft a System Prompt**: Write a clear system prompt defining your agent’s role, purpose, and constraints.\n",
    "4. **Build the Agent**: Use `create_react_agent` to assemble and test your agent.\n",
    "5. **Iterate and Refine**: Test queries, adjust the system prompt and tool behavior, and debug to optimize your agent.\n",
    "\n",
    "### Ready to Begin?\n",
    "The possibilities are endless—your creativity is the limit! Now, let’s dive in and start building your custom AI agent. "
   ]
  },
  {
   "cell_type": "markdown",
   "metadata": {},
   "source": [
    "## 0. Preparing the Environment"
   ]
  },
  {
   "cell_type": "code",
   "execution_count": null,
   "metadata": {},
   "outputs": [],
   "source": [
    "from dotenv import load_dotenv\n",
    "from langchain_openai import ChatOpenAI\n",
    "from langgraph.prebuilt import create_react_agent\n",
    "from langchain_core.tools import tool\n",
    "from utils.stream import print_stream\n",
    "\n",
    "load_dotenv(override=True)"
   ]
  },
  {
   "cell_type": "markdown",
   "metadata": {},
   "source": [
    "## 1. Initializing the Large Language Model (LLM)"
   ]
  },
  {
   "cell_type": "code",
   "execution_count": null,
   "metadata": {
    "jupyter": {
     "is_executing": true
    }
   },
   "outputs": [],
   "source": [
    "OPENAI_MODEL_NAME = \"gpt-4o-mini-2024-07-18\"\n",
    "OPENAI_MODEL_TEMPERATURE = 0\n",
    "\n",
    "llm = ChatOpenAI(model=OPENAI_MODEL_NAME, temperature=OPENAI_MODEL_TEMPERATURE)"
   ]
  },
  {
   "cell_type": "markdown",
   "metadata": {},
   "source": [
    "## 2. Defining the Tools"
   ]
  },
  {
   "cell_type": "code",
   "execution_count": null,
   "metadata": {},
   "outputs": [],
   "source": [
    "@tool\n",
    "def your_tool(input: str) -> str:\n",
    "    \"\"\"TODO: Use this space to describe this tool to the agent.\n",
    "    Try to answer the following questions:\n",
    "        - What does this tool do?\n",
    "        - What is the input?\n",
    "        - How should the input be formatted?\n",
    "    You can also provide examples of how to use this tool to help the agent understand it better.\n",
    "    \"\"\"\n",
    "    return input\n",
    "    # TODO: Implement this function or use langchain's prebuilt tools."
   ]
  },
  {
   "cell_type": "markdown",
   "metadata": {},
   "source": [
    "Test your tools to ensure they work correctly before integrating them into the agent."
   ]
  },
  {
   "cell_type": "code",
   "execution_count": null,
   "metadata": {},
   "outputs": [],
   "source": [
    "your_tool.invoke({\"input\": \"your_input_here\"})"
   ]
  },
  {
   "cell_type": "markdown",
   "metadata": {},
   "source": [
    "## 3. Crafting the Agent System Prompt"
   ]
  },
  {
   "cell_type": "code",
   "execution_count": null,
   "metadata": {},
   "outputs": [],
   "source": [
    "AGENT_PROMPT = \"\"\"\"\n",
    "# TODO: Define your agent system prompt here.\n",
    "\"\"\""
   ]
  },
  {
   "cell_type": "markdown",
   "metadata": {},
   "source": [
    "## 4. Building the AI Agent"
   ]
  },
  {
   "cell_type": "code",
   "execution_count": null,
   "metadata": {},
   "outputs": [],
   "source": [
    "from langgraph.checkpoint.memory import MemorySaver\n",
    "\n",
    "# Initialize MemorySaver\n",
    "memory = MemorySaver()\n",
    "\n",
    "graph = create_react_agent(\n",
    "    model=llm,\n",
    "    tools=[your_tool], # TODO: Add your tools here.\n",
    "    prompt=AGENT_PROMPT,\n",
    "    checkpointer=memory,\n",
    ")"
   ]
  },
  {
   "cell_type": "markdown",
   "metadata": {},
   "source": [
    "## 5. Testing the AI Agent"
   ]
  },
  {
   "cell_type": "code",
   "execution_count": null,
   "metadata": {},
   "outputs": [],
   "source": [
    "from uuid import uuid4\n",
    "\n",
    "config = {\n",
    "    \"configurable\": {\n",
    "        \"thread_id\": str(uuid4())\n",
    "        }\n",
    "}"
   ]
  },
  {
   "cell_type": "code",
   "execution_count": null,
   "metadata": {},
   "outputs": [],
   "source": [
    "question = \"\"\"<YOUR QUESTION HERE>\"\"\"\n",
    "\n",
    "inputs = {\"messages\": [(\"user\", question)]}\n",
    "\n",
    "print_stream(graph.stream(inputs, config, stream_mode=\"values\"))"
   ]
  },
  {
   "cell_type": "markdown",
   "metadata": {},
   "source": [
    "### Iterative Improvement:\n",
    "\n",
    "Now that your agent is up and running, it’s time to test it with your own queries! This hands-on testing allows you to evaluate:\n",
    "1. **How well the agent responds to expected queries** (e.g., asking the time in different locations).\n",
    "2. **Whether it handles unexpected or ambiguous queries gracefully** (e.g., if no location is provided or irrelevant questions are asked).\n",
    "3. **How effectively it uses the tools** to fulfill its purpose.\n",
    "\n",
    "### Iterative Process:\n",
    "\n",
    "Crafting the perfect agent is an **iterative process**. Use these trials to identify areas of improvement and adjust the agent as needed. Consider modifying the following aspects:\n",
    "- **System Prompt**: Adjust the wording to clarify the agent’s purpose, add reasoning steps, or inject personality.\n",
    "- **Tool Definition**: Rename tools, change their parameters, or improve their descriptions for clarity and better integration.\n",
    "- **Model Settings**: Experiment with model temperature to balance determinism (`temperature=0`) and creativity (higher values).\n",
    "- **Tool Limitations**: For example, add error handling if an invalid timezone is passed.\n",
    "\n",
    "### Tips for Effective Refinement:\n",
    "- If your agent isn’t responding as expected, start by reviewing the reasoning trace.\n",
    "- Test with a wider variety of queries to account for edge cases.\n",
    "- Iterate gradually, making small adjustments to prompts, tools, or configurations one step at a time.\n",
    "\n",
    "Remember, building an AI agent is like sculpting—it evolves over time with refinement and experimentation."
   ]
  },
  {
   "cell_type": "markdown",
   "metadata": {},
   "source": [
    "## 9. Conclusion\n",
    "\n",
    "🎉 Congratulations on Completing the Bonus Exercise and the Hands-On Session! 🎉\n",
    "\n",
    "Amazing work! You’ve reached the end of the session, and your progress and creativity are truly commendable.\n",
    "\n",
    "### What You’ve Accomplished:\n",
    "Over the course of these exercises, you’ve:\n",
    "1. **Learned the Foundations of AI Agents**: From building simple agents to understanding reasoning and tool usage.\n",
    "2. **Mastered Tool Coordination**: Built and optimized agents that leverage multiple tools to solve complex, real-world problems.\n",
    "3. **Explored Creativity with Custom Agents**: Designed unique, custom AI agents tailored to tasks of your choice, integrating tools like web browsing, code execution, and API usage.\n",
    "4. **Built Real-World AI Use Cases**: Gained hands-on experience creating conversational agents that could be applied to real-life scenarios.\n",
    "\n",
    "You’ve not only implemented functional AI agents but also explored the limitless potential of **LangGraph** and built skills that are invaluable for designing **future-facing AI systems**.\n",
    "\n",
    "### The Journey Doesn’t End Here 🚀\n",
    "\n",
    "This lab camp is just the beginning of your AI agent-building journey. Armed with the knowledge and tools you’ve gained, you’re now ready to:\n",
    "1. **Build More Complex AI Systems**: Leverage your new skills to tackle advanced projects and integrate even more sophisticated workflows.\n",
    "2. **Explore LangGraph Further**: Dive deeper into LangGraph’s features, tools, and debugging utilities to push your agents to the next level.\n",
    "3. **Apply Skills in Real-World Scenarios**: Use what you've learned to create highly customized, task-specific AI agents for professional, creative, or personal projects.\n",
    "\n",
    "### Thank You for Participating 💡\n",
    "\n",
    "We are thrilled to have had you join us for this LabCamp and witness your amazing progress. Seeing your creativity and enthusiasm reminds us why working with AI systems is so exciting—because the possibilities are endless.\n",
    "\n",
    "If you’re eager to continue your learning:\n",
    "- Visit the **official LangGraph documentation**: [LangGraph Docs](https://langchain-ai.github.io/langgraph/tutorials/introduction/)\n",
    "\n",
    "### Keep Building and Innovating 🌟\n",
    "Thank you, and we can’t wait to see the incredible AI agents you'll build in the future. Stay curious, keep experimenting, and continue pushing the boundaries of what’s possible!"
   ]
  }
 ],
 "metadata": {
  "kernelspec": {
   "display_name": ".venv",
   "language": "python",
   "name": "python3"
  },
  "language_info": {
   "codemirror_mode": {
    "name": "ipython",
    "version": 3
   },
   "file_extension": ".py",
   "mimetype": "text/x-python",
   "name": "python",
   "nbconvert_exporter": "python",
   "pygments_lexer": "ipython3",
   "version": "3.13.2"
  }
 },
 "nbformat": 4,
 "nbformat_minor": 2
}
