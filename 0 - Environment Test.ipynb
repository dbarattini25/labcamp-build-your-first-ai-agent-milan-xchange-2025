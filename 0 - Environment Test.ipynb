{
 "cells": [
  {
   "cell_type": "markdown",
   "metadata": {},
   "source": [
    "# Environment Test"
   ]
  },
  {
   "cell_type": "markdown",
   "metadata": {},
   "source": [
    "Welcome! 🎉 Before you start the hands-on session, let’s make sure your environment is correctly set up and ready to go.\n",
    "\n",
    "This notebook will ensure the **main required libraries and modules** are correctly installed and that the environment is properly configured.\n",
    "\n",
    "### Instructions:\n",
    "\n",
    "1. Follow the instructions in the **README.md** file to set up your environment.\n",
    "2. Run the code cell below to check if everything is correctly configured.\n",
    "\n",
    "**N.B.**: During the hands-on session, all necessary tools, environments and libraries will already be pre-installed on the lab computers. You do not need to follow the setup instructions below unless you are working on your own machine outside of the hands-on session.\n",
    "\n",
    "If this is your first time working with Jupyter Notebooks, we recommend reviewing the [Jupyter Notebooks in VS Code](https://code.visualstudio.com/docs/datascience/jupyter-notebooks#_create-or-open-a-jupyter-notebook) guide to get started.   "
   ]
  },
  {
   "cell_type": "code",
   "execution_count": null,
   "metadata": {},
   "outputs": [],
   "source": [
    "from dotenv import load_dotenv\n",
    "from langchain_openai import ChatOpenAI\n",
    "from langgraph.prebuilt import create_react_agent\n",
    "from langchain_core.tools import tool\n",
    "from utils.stream import print_stream\n",
    "\n",
    "print(\"🚀 If you are reading this without any errors, you are ready to start the Hands-On Session! 🚀\")\n",
    "print(\"⚠️ Please wait until the session starts before opening any other notebooks! ⚠️\")\n",
    "print(\"💡 Remember: You will receive your OpenAI API key and need to add it to your .env file.\")"
   ]
  }
 ],
 "metadata": {
  "kernelspec": {
   "display_name": ".venv",
   "language": "python",
   "name": "python3"
  },
  "language_info": {
   "codemirror_mode": {
    "name": "ipython",
    "version": 3
   },
   "file_extension": ".py",
   "mimetype": "text/x-python",
   "name": "python",
   "nbconvert_exporter": "python",
   "pygments_lexer": "ipython3",
   "version": "3.13.2"
  }
 },
 "nbformat": 4,
 "nbformat_minor": 2
}
