{
 "cells": [
  {
   "cell_type": "markdown",
   "metadata": {},
   "source": [
    "# My Second AI Agent\n",
    "\n",
    "<div>\n",
    "<center><img src=\"./images/shopping_agent.jpeg\" width=\"500\"/></center>\n",
    "</div>\n",
    "\n",
    "Welcome to the second exercise! In this exercise, you will build a more complex AI agent: a **Shopping Assistant** for a clothing store.\n",
    "\n",
    "### Objective:\n",
    "The goal of this exercise is to create an AI agent that can:\n",
    "1. Help customers find products by retrieving product information (e.g., \"red t-shirt\", \"black shoes\").\n",
    "2. Calculate totals and discounts for selected items using a calculator tool (since agents aren’t always reliable at math)\n",
    "\n",
    "### Why This Exercise?\n",
    "This exercise will demonstrate how to:\n",
    "1. **Coordinate Multiple Tools**: Learn how an agent can use more than one tool in a single session, switching between tools as needed to perform its tasks.\n",
    "2. **Handle Complex Workflows**: Teach the agent to handle multi-step processes (e.g., retrieving product details, calculating prices, and applying discounts).\n",
    "\n",
    "### What You’ll Build:\n",
    "The Shopping Assistant AI agent will:\n",
    "1. Take user questions like:\n",
    "   - *“Can you show me the price of a blue jacket?”*\n",
    "   - *“How much would two pairs of black shoes cost?”*\n",
    "2. Retrieve product details using a product information tool.\n",
    "3. Use a calculator tool to compute totals and apply discounts.\n",
    "4. Provide meaningful responses to the user by combining outputs from multiple tools.\n",
    "\n",
    "By the end of this exercise, you’ll have hands-on experience creating a multi-tool agent capable of performing more **complex operations** and reasoning about customer requests.\n",
    "\n",
    "### Ready to Get Started?\n",
    "Let’s begin by setting up the environment and preparing the tools for our smarter, multi-functional agent!"
   ]
  },
  {
   "cell_type": "markdown",
   "metadata": {},
   "source": [
    "## 0. Preparing the Environment"
   ]
  },
  {
   "cell_type": "code",
   "execution_count": null,
   "metadata": {},
   "outputs": [],
   "source": [
    "from dotenv import load_dotenv\n",
    "from langchain_openai import ChatOpenAI\n",
    "from langgraph.prebuilt import create_react_agent\n",
    "from langchain_core.tools import tool\n",
    "from utils.stream import print_stream\n",
    "\n",
    "load_dotenv(override=True)"
   ]
  },
  {
   "cell_type": "markdown",
   "metadata": {},
   "source": [
    "## 1. Initializing the Large Language Model (LLM)"
   ]
  },
  {
   "cell_type": "code",
   "execution_count": null,
   "metadata": {
    "jupyter": {
     "is_executing": true
    }
   },
   "outputs": [],
   "source": [
    "OPENAI_MODEL_NAME = \"gpt-4o-mini-2024-07-18\"\n",
    "OPENAI_MODEL_TEMPERATURE = 0\n",
    "\n",
    "llm = ChatOpenAI(model=OPENAI_MODEL_NAME, temperature=OPENAI_MODEL_TEMPERATURE)"
   ]
  },
  {
   "cell_type": "markdown",
   "metadata": {},
   "source": [
    "## 2. Defining the Tools"
   ]
  },
  {
   "cell_type": "markdown",
   "metadata": {},
   "source": [
    "To build the **Shopping Assistant AI agent**, we'll need two specific tools. While we’ll provide the tool for retrieving clothing data, you’ll get the opportunity to define the calculator tool (or use a prebuilt version).\n",
    "\n",
    "#### Tools Overview:\n",
    "\n",
    "1. **Clothing Data Retrieval Tool** (Provided)\n",
    "   - This tool retrieves basic information about available clothing items, such as type, price, and discount.\n",
    "   - The agent will use it to respond to queries like:\n",
    "     - *\"What’s the price of a red t-shirt?\"*\n",
    "     - *\"Do you have black shoes?\"*\n",
    "\n",
    "2. **Calculator Tool** (To Be Defined)\n",
    "   - The agent will use this tool to perform mathematical operations, such as:\n",
    "     - Calculating totals for multiple items.\n",
    "     - Applying discounts.\n",
    "   - You can define your own tool (recomended) or use a prebuilt one.\n",
    "\n",
    "Let’s start by defining the data and the tools."
   ]
  },
  {
   "cell_type": "code",
   "execution_count": null,
   "metadata": {},
   "outputs": [],
   "source": [
    "import enum\n",
    "\n",
    "class ProductNames(enum.Enum):\n",
    "    RedShirt = \"red shirt\"\n",
    "    BlueJeans = \"blue jeans\"\n",
    "    BlackShoes = \"black shoes\"\n",
    "    WhiteSocks = \"white socks\"\n",
    "    GrayHat = \"gray hat\"\n",
    "    GreenScarf = \"green scarf\"\n",
    "    YellowBelt = \"yellow belt\"\n",
    "    PurpleGloves = \"purple gloves\"\n",
    "    BrownJacket = \"brown jacket\"\n",
    "    PinkSweater = \"pink sweater\"\n",
    "\n",
    "PRODUCTS = [\n",
    "    {\n",
    "        \"name\": ProductNames.RedShirt.value,\n",
    "        \"price\": 20.00,\n",
    "        \"discount\": 0.10,\n",
    "        \"currency\": \"EUR\",\n",
    "        \"description\": \"A stylish red shirt made from high-quality cotton.\",\n",
    "    },\n",
    "    {\n",
    "        \"name\": ProductNames.BlueJeans.value,\n",
    "        \"price\": 40.00,\n",
    "        \"discount\": 0.20,\n",
    "        \"currency\": \"EUR\",\n",
    "        \"description\": \"A pair of comfortable blue jeans made from durable denim.\",\n",
    "    },\n",
    "    {\n",
    "        \"name\": ProductNames.BlackShoes.value,\n",
    "        \"price\": 30.00,\n",
    "        \"discount\": 0.15,\n",
    "        \"currency\": \"EUR\",\n",
    "        \"description\": \"A pair of elegant black shoes made from genuine leather.\",\n",
    "    },\n",
    "    {\n",
    "        \"name\": ProductNames.WhiteSocks.value,\n",
    "        \"price\": 5.00,\n",
    "        \"discount\": 0.05,\n",
    "        \"currency\": \"EUR\",\n",
    "        \"description\": \"A pack of soft white socks made from breathable cotton.\",\n",
    "    },\n",
    "    {\n",
    "        \"name\": ProductNames.GrayHat.value,\n",
    "        \"price\": 10.00,\n",
    "        \"discount\": 0.10,\n",
    "        \"currency\": \"EUR\",\n",
    "        \"description\": \"A stylish gray hat made from lightweight fabric.\",\n",
    "    },\n",
    "    {\n",
    "        \"name\": ProductNames.GreenScarf.value,\n",
    "        \"price\": 15.00,\n",
    "        \"discount\": 0.12,\n",
    "        \"currency\": \"EUR\",\n",
    "        \"description\": \"A warm green scarf made from wool.\",\n",
    "    },\n",
    "    {\n",
    "        \"name\": ProductNames.YellowBelt.value,\n",
    "        \"price\": 8.00,\n",
    "        \"discount\": 0.08,\n",
    "        \"currency\": \"EUR\",\n",
    "        \"description\": \"A yellow belt made from synthetic leather.\",\n",
    "    },\n",
    "    {\n",
    "        \"name\": ProductNames.PurpleGloves.value,\n",
    "        \"price\": 12.00,\n",
    "        \"discount\": 0.10,\n",
    "        \"currency\": \"EUR\",\n",
    "        \"description\": \"A pair of purple gloves made from soft fabric.\",\n",
    "    },\n",
    "    {\n",
    "        \"name\": ProductNames.BrownJacket.value,\n",
    "        \"price\": 50.00,\n",
    "        \"discount\": 0.25,\n",
    "        \"currency\": \"EUR\",\n",
    "        \"description\": \"A brown jacket made from genuine leather.\",\n",
    "    },\n",
    "    {\n",
    "        \"name\": ProductNames.PinkSweater.value,\n",
    "        \"price\": 25.00,\n",
    "        \"discount\": 0.15,\n",
    "        \"currency\": \"EUR\",\n",
    "        \"description\": \"A pink sweater made from high-quality cotton.\",\n",
    "    }\n",
    "]"
   ]
  },
  {
   "cell_type": "code",
   "execution_count": null,
   "metadata": {},
   "outputs": [],
   "source": [
    "from tools.math import prebuilt_calculator\n",
    "\n",
    "@tool\n",
    "def get_product_info(product_name: ProductNames) -> dict:\n",
    "    \"\"\"TODO: Use this space to describe this tool to the agent.\n",
    "    Try to answer the following questions:\n",
    "        - What does this tool do?\n",
    "        - What is the input?\n",
    "        - How should the input be formatted?\n",
    "    You can also provide examples of how to use this tool to help the agent understand it better.\n",
    "    \"\"\"\n",
    "    for product in PRODUCTS:\n",
    "        if product[\"name\"] == product_name.value:\n",
    "            return product\n",
    "    return None\n",
    "\n",
    "@tool\n",
    "def calculator(expression: str) -> float:\n",
    "    \"\"\"TODO: Use this space to describe this tool to the agent.\n",
    "    Try to answer the following questions:\n",
    "        - What does this tool do?\n",
    "        - What is the input?\n",
    "        - How should the input be formatted?\n",
    "    You can also provide examples of how to use this tool to help the agent understand it better.\n",
    "    \"\"\"\n",
    "    # TODO: Implement this function (reccomended) or uncomment the following line to use the prebuilt one.\n",
    "    #   HINT: You can use the `ast` library (safe) or the `eval` function (unsage) to evaluate a python mathematical expression.\n",
    "    # return prebuilt_calculator(expression)"
   ]
  },
  {
   "cell_type": "markdown",
   "metadata": {},
   "source": [
    "Test both tools to ensure they work correctly before integrating them into the agent."
   ]
  },
  {
   "cell_type": "code",
   "execution_count": null,
   "metadata": {},
   "outputs": [],
   "source": [
    "get_product_info.invoke({\"product_name\": ProductNames.RedShirt})"
   ]
  },
  {
   "cell_type": "code",
   "execution_count": null,
   "metadata": {},
   "outputs": [],
   "source": [
    "calculator.invoke({\"expression\": \"2 + 2 * 10\"})"
   ]
  },
  {
   "cell_type": "markdown",
   "metadata": {},
   "source": [
    "## 3. Crafting the Agent System Prompt\n",
    "\n",
    "Define a system prompt for your agent. The agent should:\n",
    "1. Help customers browse a clothing shop by retrieving details about items (using the `get_clothing_info` tool).\n",
    "2. Perform calculations, such as computing totals or applying discounts, with the `perform_calculation` tool.\n",
    "3. Politely decline irrelevant or unsupported queries (e.g., unrelated to clothing or shopping)."
   ]
  },
  {
   "cell_type": "code",
   "execution_count": null,
   "metadata": {},
   "outputs": [],
   "source": [
    "SHOPPING_AGENT_PROMPT = \"\"\"\"\n",
    "# TODO: Define your agent system prompt here.\n",
    "\"\"\""
   ]
  },
  {
   "cell_type": "markdown",
   "metadata": {},
   "source": [
    "## 4. Building the AI Agent\n",
    "\n",
    "Now that you have the tools and system prompt ready, it’s time to build the AI agent. The agent should have access to both tools and should also have short-term memory to keep track of the conversation context."
   ]
  },
  {
   "cell_type": "code",
   "execution_count": null,
   "metadata": {},
   "outputs": [],
   "source": [
    "from langgraph.checkpoint.memory import MemorySaver\n",
    "\n",
    "# Initialize MemorySaver\n",
    "memory = MemorySaver()\n",
    "\n",
    "graph = create_react_agent(\n",
    "    model=llm,\n",
    "    tools=[get_product_info, calculator],\n",
    "    prompt=SHOPPING_AGENT_PROMPT,\n",
    "    checkpointer=memory,\n",
    ")"
   ]
  },
  {
   "cell_type": "markdown",
   "metadata": {},
   "source": [
    "## 5. Testing the AI Agent\n",
    "\n",
    "Now that the agent is fully built, it's time to test it! Interact with the agent using a variety of prompts to see how well it can assist users in shopping for clothing. For example, you can ask:\n",
    "- *\"Can you show me the price of a blue jacket?\"*\n",
    "- *\"How much would two pairs of black shoes cost?\"*\n",
    "- *\"What’s the total for a red t-shirt and a pair of jeans?\"*"
   ]
  },
  {
   "cell_type": "code",
   "execution_count": null,
   "metadata": {},
   "outputs": [],
   "source": [
    "from uuid import uuid4\n",
    "\n",
    "config = {\n",
    "    \"configurable\": {\n",
    "        \"thread_id\": str(uuid4())\n",
    "        }\n",
    "}"
   ]
  },
  {
   "cell_type": "code",
   "execution_count": null,
   "metadata": {},
   "outputs": [],
   "source": [
    "question = \"\"\"How much does the red shirt cost?\"\"\"\n",
    "\n",
    "inputs = {\"messages\": [(\"user\", question)]}\n",
    "\n",
    "print_stream(graph.stream(inputs, config, stream_mode=\"values\"))"
   ]
  },
  {
   "cell_type": "code",
   "execution_count": null,
   "metadata": {},
   "outputs": [],
   "source": [
    "question = \"\"\"I also need a pair of blue jeans. How much is the total?\"\"\"\n",
    "\n",
    "inputs = {\"messages\": [(\"user\", question)]}\n",
    "\n",
    "print_stream(graph.stream(inputs, config, stream_mode=\"values\"))"
   ]
  },
  {
   "cell_type": "code",
   "execution_count": null,
   "metadata": {},
   "outputs": [],
   "source": [
    "question = \"\"\"And a pair of black shoes and a pack of white socks. How much is the total now?\"\"\"\n",
    "\n",
    "inputs = {\"messages\": [(\"user\", question)]}\n",
    "\n",
    "print_stream(graph.stream(inputs, config, stream_mode=\"values\"))"
   ]
  },
  {
   "cell_type": "markdown",
   "metadata": {},
   "source": [
    "### Iterative Refinement:\n",
    "\n",
    "Now that your agent is up and running, it’s time to test it with your own queries! This hands-on testing allows you to evaluate:\n",
    "1. **How well the agent responds to expected queries** (e.g., asking the time in different locations).\n",
    "2. **Whether it handles unexpected or ambiguous queries gracefully** (e.g., if no location is provided or irrelevant questions are asked).\n",
    "3. **How effectively it uses the tools** to fulfill its purpose.\n",
    "\n",
    "### Iterative Process:\n",
    "\n",
    "Crafting the perfect agent is an **iterative process**. Use these trials to identify areas of improvement and adjust the agent as needed. Consider modifying the following aspects:\n",
    "- **System Prompt**: Adjust the wording to clarify the agent’s purpose, add reasoning steps, or inject personality.\n",
    "- **Tool Definition**: Rename tools, change their parameters, or improve their descriptions for clarity and better integration.\n",
    "- **Model Settings**: Experiment with model temperature to balance determinism (`temperature=0`) and creativity (higher values).\n",
    "- **Tool Limitations**: For example, add error handling if an invalid timezone is passed.\n",
    "\n",
    "### Tips for Effective Refinement:\n",
    "- If your agent isn’t responding as expected, start by reviewing the reasoning trace.\n",
    "- Test with a wider variety of queries to account for edge cases.\n",
    "- Iterate gradually, making small adjustments to prompts, tools, or configurations one step at a time.\n",
    "\n",
    "Remember, building an AI agent is like sculpting—it evolves over time with refinement and experimentation."
   ]
  },
  {
   "cell_type": "code",
   "execution_count": null,
   "metadata": {},
   "outputs": [],
   "source": [
    "from uuid import uuid4\n",
    "\n",
    "config = {\n",
    "    \"configurable\": {\n",
    "        \"thread_id\": str(uuid4())\n",
    "        }\n",
    "}"
   ]
  },
  {
   "cell_type": "code",
   "execution_count": null,
   "metadata": {},
   "outputs": [],
   "source": [
    "question = \"\"\"<YOUR QUESTION HERE>\"\"\"\n",
    "\n",
    "inputs = {\"messages\": [(\"user\", question)]}\n",
    "\n",
    "print_stream(graph.stream(inputs, config, stream_mode=\"values\"))"
   ]
  },
  {
   "cell_type": "markdown",
   "metadata": {},
   "source": [
    "## 9. Conclusion\n",
    "\n",
    "🎉 Congratulations on Completing Exercise 2! 🎉\n",
    "\n",
    "Amazing work! You’ve successfully built a more complex AI agent that can assist customers in shopping for clothing, calculate totals, and apply discounts. \n",
    "\n",
    "### What You’ve Accomplished:\n",
    "1. **Built Multi-Tool Functionality**: Created a Shopping Assistant agent that seamlessly switches between multiple tools to handle queries.\n",
    "2. **Defined Custom Tools**: Learned to define your own tools.\n",
    "3. **Crafted a Detailed System Prompt**: Designed a system prompt to guide the agent’s behavior and reasoning when interacting with users.\n",
    "4. **Integrated Tools into the Agent**: Used the `create_react_agent` function to orchestrate all components (LLM, tools, and memory).\n",
    "\n",
    "By accomplishing all this, you’ve gained hands-on experience with **coordinating multiple tools**, **iteratively refining system prompts**, and **building task-specific AI agents**.\n",
    "\n",
    "### Next Steps:\n",
    "Ready for more? 🚀 In the **Bonus Notebook**, we’ll take everything you’ve learned one step further.\n",
    "\n",
    "Take your AI-building skills to the next level! Head over to Notebook **3 - (Bonus) - My Third AI Agent.ipynb** to continue your journey."
   ]
  }
 ],
 "metadata": {
  "kernelspec": {
   "display_name": ".venv",
   "language": "python",
   "name": "python3"
  },
  "language_info": {
   "codemirror_mode": {
    "name": "ipython",
    "version": 3
   },
   "file_extension": ".py",
   "mimetype": "text/x-python",
   "name": "python",
   "nbconvert_exporter": "python",
   "pygments_lexer": "ipython3",
   "version": "3.13.2"
  }
 },
 "nbformat": 4,
 "nbformat_minor": 2
}
